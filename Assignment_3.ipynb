{
  "nbformat": 4,
  "nbformat_minor": 0,
  "metadata": {
    "colab": {
      "provenance": [],
      "authorship_tag": "ABX9TyNhYWbN+BdCAZIa+Ef/UUIw",
      "include_colab_link": true
    },
    "kernelspec": {
      "name": "python3",
      "display_name": "Python 3"
    },
    "language_info": {
      "name": "python"
    }
  },
  "cells": [
    {
      "cell_type": "markdown",
      "metadata": {
        "id": "view-in-github",
        "colab_type": "text"
      },
      "source": [
        "<a href=\"https://colab.research.google.com/github/uzairafnan007/Assignment/blob/main/Assignment_3.ipynb\" target=\"_parent\"><img src=\"https://colab.research.google.com/assets/colab-badge.svg\" alt=\"Open In Colab\"/></a>"
      ]
    },
    {
      "cell_type": "code",
      "source": [
        "with open('file.txt', 'w+') as k:   \n",
        "    k.write(\"daffodil\\n\")\n",
        "    k.write(\"roses\\n\")\n",
        "    k.write(\"lilies\\n\")             \n",
        "    k.seek(0)                      \n",
        "    lines = k.read()               \n",
        "    print(lines)                "
      ],
      "metadata": {
        "colab": {
          "base_uri": "https://localhost:8080/"
        },
        "id": "PsrJ9VWbAbwo",
        "outputId": "b83aabcb-9617-495d-8991-30ecd24e9cc2"
      },
      "execution_count": null,
      "outputs": [
        {
          "output_type": "stream",
          "name": "stdout",
          "text": [
            "daffodil\n",
            "roses\n",
            "lilies\n",
            "\n"
          ]
        }
      ]
    },
    {
      "cell_type": "code",
      "source": [
        "with open('file.txt', 'r+') as l:\n",
        "    l.read()                \n",
        "    l.write(\"new line \\n\")"
      ],
      "metadata": {
        "id": "X21V7LCp_VPc"
      },
      "execution_count": null,
      "outputs": []
    },
    {
      "cell_type": "code",
      "source": [
        "with open('file.txt') as l:  \n",
        "    print(l.read(90))"
      ],
      "metadata": {
        "colab": {
          "base_uri": "https://localhost:8080/"
        },
        "id": "Tj2HdBclAFWn",
        "outputId": "b87870f3-6730-435f-ad77-2e74d0ae7f08"
      },
      "execution_count": null,
      "outputs": [
        {
          "output_type": "stream",
          "name": "stdout",
          "text": [
            "daffodil\n",
            "roses\n",
            "lilies\n",
            "\n",
            "3\n",
            "589\n"
          ]
        }
      ]
    },
    {
      "cell_type": "code",
      "source": [
        "#calculator\n",
        "import add\n",
        "num1 = float(input(\"Enter first number: \"))\n",
        "num2 = float(input(\"Enter second number: \"))\n",
        "choice = input(\"Enter choice(1/2/3/4): \")"
      ],
      "metadata": {
        "id": "ZcRteSzpSXvy"
      },
      "execution_count": null,
      "outputs": []
    },
    {
      "cell_type": "code",
      "source": [
        "with open('file.txt', 'a') as h:\n",
        "    h.write(\"89\")"
      ],
      "metadata": {
        "id": "cWiitW_HDC58"
      },
      "execution_count": null,
      "outputs": []
    },
    {
      "cell_type": "code",
      "source": [
        "with open('file.txt', 'a+') as g:\n",
        "    g.seek(0)                       \n",
        "    lines = g.readlines()           \n",
        "    g.write(\"\\n\" + str(len(lines))) "
      ],
      "metadata": {
        "id": "eOfV9kMGDJLw"
      },
      "execution_count": null,
      "outputs": []
    }
  ]
}