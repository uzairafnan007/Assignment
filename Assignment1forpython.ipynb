{
  "nbformat": 4,
  "nbformat_minor": 0,
  "metadata": {
    "colab": {
      "provenance": [],
      "authorship_tag": "ABX9TyNWX03UHDthLBHLqNH2Y7mb",
      "include_colab_link": true
    },
    "kernelspec": {
      "name": "python3",
      "display_name": "Python 3"
    },
    "language_info": {
      "name": "python"
    }
  },
  "cells": [
    {
      "cell_type": "markdown",
      "metadata": {
        "id": "view-in-github",
        "colab_type": "text"
      },
      "source": [
        "<a href=\"https://colab.research.google.com/github/uzairafnan007/Assignment/blob/main/Assignment1forpython.ipynb\" target=\"_parent\"><img src=\"https://colab.research.google.com/assets/colab-badge.svg\" alt=\"Open In Colab\"/></a>"
      ]
    },
    {
      "cell_type": "code",
      "execution_count": 16,
      "metadata": {
        "colab": {
          "base_uri": "https://localhost:8080/"
        },
        "id": "uwZXeH-F5rmz",
        "outputId": "8130e537-2a17-4c60-bcdc-3228f40535b3"
      },
      "outputs": [
        {
          "output_type": "stream",
          "name": "stdout",
          "text": [
            "('pon0der', 'over', 987.8)\n",
            "['we', 'are', 'here', 'for', 'you', 6789]\n",
            "{'yrer': 'uyyt', 'jire': 'berserh'}\n",
            "ol\n",
            "que\n"
          ]
        }
      ],
      "source": [
        "# examples for list,tuple and dictionaries\n",
        "mylist3=[\"we\",\"are\",\"here\",\"for\",\"you\",6789]\n",
        "mytup=(\"pon0der\",\"over\",987.8)\n",
        "mydict={\n",
        "    \"yrer\":\"uyyt\",\n",
        "    \"jire\":\"berserh\",\n",
        "    }\n",
        "print(mytup)\n",
        "print(mylist3)\n",
        "print(mydict)\n",
        "#examples for negative indexing\n",
        "b=\"conquer\"\n",
        "a=\"morphology\"\n",
        "print(a[-5:-3])\n",
        "print(a[-8:-:-4])\n",
        "print(b[-4:-1])"
      ]
    }
  ]
}